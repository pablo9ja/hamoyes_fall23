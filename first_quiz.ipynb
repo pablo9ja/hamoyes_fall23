{
 "cells": [
  {
   "cell_type": "code",
   "execution_count": null,
   "metadata": {},
   "outputs": [
    {
     "ename": "",
     "evalue": "",
     "output_type": "error",
     "traceback": [
      "\u001b[1;31mFailed to start the Kernel. \n",
      "\u001b[1;31mUnable to start Kernel 'Python 3.11.4' due to a timeout waiting for the ports to get used. \n",
      "\u001b[1;31mView Jupyter <a href='command:jupyter.viewOutput'>log</a> for further details."
     ]
    }
   ],
   "source": [
    "import pandas as pd\n",
    "df =pd.read_csv(\"FoodBalanceSheets_E_Africa_NOFLAG.csv\",encoding = \"latin-1\")\n",
    "df.head()"
   ]
  },
  {
   "cell_type": "code",
   "execution_count": 3,
   "metadata": {},
   "outputs": [
    {
     "data": {
      "text/plain": [
       "173.04999999999998"
      ]
     },
     "execution_count": 3,
     "metadata": {},
     "output_type": "execute_result"
    }
   ],
   "source": [
    "#What is the total Protein supply quantity in Madagascar in 2015?\n",
    "data_madag = df.loc[(df.Area == 'Madagascar') & (df.Element == 'Protein supply quantity (g/capita/day)')]\n",
    "data_madag['Y2015'].sum()"
   ]
  },
  {
   "cell_type": "code",
   "execution_count": 4,
   "metadata": {},
   "outputs": [
    {
     "data": {
      "text/plain": [
       "Area\n",
       "Algeria         325644.27\n",
       "Angola          229159.57\n",
       "Benin           124771.22\n",
       "Botswana         22101.30\n",
       "Burkina Faso    101855.07\n",
       "Name: Y2017, dtype: float64"
      ]
     },
     "execution_count": 4,
     "metadata": {},
     "output_type": "execute_result"
    }
   ],
   "source": [
    "#question 3\n",
    "df.groupby(['Area'], sort=True)['Y2017'].sum().head()\n"
   ]
  },
  {
   "cell_type": "code",
   "execution_count": 5,
   "metadata": {},
   "outputs": [
    {
     "data": {
      "text/plain": [
       "Element\n",
       "Domestic supply quantity              2021493.55\n",
       "Export Quantity                        157614.47\n",
       "Fat supply quantity (g/capita/day)      10235.74\n",
       "Feed                                   225050.22\n",
       "Food                                  1232361.10\n",
       "Name: Y2015, dtype: float64"
      ]
     },
     "execution_count": 5,
     "metadata": {},
     "output_type": "execute_result"
    }
   ],
   "source": [
    "# Perform a groupby operation on ‘Element’.  What year has the highest sum of Stock Variation?\n",
    "a = df.groupby(['Element']).sum().head()\n",
    "a['Y2015']"
   ]
  },
  {
   "cell_type": "code",
   "execution_count": 6,
   "metadata": {},
   "outputs": [
    {
     "data": {
      "text/plain": [
       "49"
      ]
     },
     "execution_count": 6,
     "metadata": {},
     "output_type": "execute_result"
    }
   ],
   "source": [
    "#What is the total number of unique countries in the dataset?\n",
    "a = df['Area'].unique()\n",
    "a.size"
   ]
  },
  {
   "cell_type": "code",
   "execution_count": 7,
   "metadata": {},
   "outputs": [
    {
     "name": "stdout",
     "output_type": "stream",
     "text": [
      "4251.8099999999995 4039.3199999999997\n"
     ]
    }
   ],
   "source": [
    "#What is the total sum of Wine produced in 2015 and 2018 respectively?\n",
    "data_Wine = df.loc[(df.Item == 'Wine') ]\n",
    "print(data_Wine['Y2015'].sum(), data_Wine['Y2018'].sum())"
   ]
  },
  {
   "cell_type": "code",
   "execution_count": 8,
   "metadata": {},
   "outputs": [
    {
     "data": {
      "text/plain": [
       "count     59437.000000\n",
       "mean        140.917765\n",
       "std        1671.862359\n",
       "min       -1582.000000\n",
       "25%           0.000000\n",
       "50%           0.100000\n",
       "75%           9.000000\n",
       "max      190873.000000\n",
       "Name: Y2017, dtype: float64"
      ]
     },
     "execution_count": 8,
     "metadata": {},
     "output_type": "execute_result"
    }
   ],
   "source": [
    "#What is the mean and standard deviation across the whole dataset for the year 2017 to 2 decimal places?\n",
    "df['Y2017'].describe()"
   ]
  },
  {
   "cell_type": "code",
   "execution_count": 9,
   "metadata": {},
   "outputs": [
    {
     "data": {
      "text/plain": [
       "'Y2016'"
      ]
     },
     "execution_count": 9,
     "metadata": {},
     "output_type": "execute_result"
    }
   ],
   "source": [
    "# Which year had the least correlation with ‘Element Code’?\n",
    "correlations = df[['Element Code', 'Y2014', 'Y2015', 'Y2016','Y2017']].corr()\n",
    "\n",
    "# Calculate the absolute correlations and exclude the 'Element Code' row\n",
    "correlations = correlations.abs().drop('Element Code', axis=0)\n",
    "\n",
    "# Find the year with the least correlation\n",
    "least_correlated_year = correlations.idxmin().values[0]\n",
    "least_correlated_year "
   ]
  },
  {
   "cell_type": "code",
   "execution_count": 10,
   "metadata": {},
   "outputs": [
    {
     "name": "stdout",
     "output_type": "stream",
     "text": [
      "Total number of missing data in 2014: 1589\n",
      "Percentage of missing data in 2014: 2.6073544131401474%\n"
     ]
    }
   ],
   "source": [
    "# What is the total number and percentage of missing data in 2014 to 3 decimal places?\n",
    "total_missing_2014 = df['Y2014'].isna().sum()\n",
    "percentage_missing_2014 = (total_missing_2014/ len(df)) *100\n",
    "print(f\"Total number of missing data in 2014: {total_missing_2014}\")\n",
    "print(f\"Percentage of missing data in 2014: {percentage_missing_2014}%\")"
   ]
  },
  {
   "cell_type": "code",
   "execution_count": 11,
   "metadata": {},
   "outputs": [
    {
     "data": {
      "text/html": [
       "<div>\n",
       "<style scoped>\n",
       "    .dataframe tbody tr th:only-of-type {\n",
       "        vertical-align: middle;\n",
       "    }\n",
       "\n",
       "    .dataframe tbody tr th {\n",
       "        vertical-align: top;\n",
       "    }\n",
       "\n",
       "    .dataframe thead th {\n",
       "        text-align: right;\n",
       "    }\n",
       "</style>\n",
       "<table border=\"1\" class=\"dataframe\">\n",
       "  <thead>\n",
       "    <tr style=\"text-align: right;\">\n",
       "      <th></th>\n",
       "      <th></th>\n",
       "      <th>Area Code</th>\n",
       "      <th>Item Code</th>\n",
       "      <th>Item</th>\n",
       "      <th>Element Code</th>\n",
       "      <th>Element</th>\n",
       "      <th>Unit</th>\n",
       "      <th>Y2014</th>\n",
       "      <th>Y2015</th>\n",
       "      <th>Y2016</th>\n",
       "      <th>Y2018</th>\n",
       "    </tr>\n",
       "    <tr>\n",
       "      <th>Y2017</th>\n",
       "      <th>Area</th>\n",
       "      <th></th>\n",
       "      <th></th>\n",
       "      <th></th>\n",
       "      <th></th>\n",
       "      <th></th>\n",
       "      <th></th>\n",
       "      <th></th>\n",
       "      <th></th>\n",
       "      <th></th>\n",
       "      <th></th>\n",
       "    </tr>\n",
       "  </thead>\n",
       "  <tbody>\n",
       "    <tr>\n",
       "      <th>-1582.0</th>\n",
       "      <th>Egypt</th>\n",
       "      <td>118</td>\n",
       "      <td>5445</td>\n",
       "      <td>Sugar CropsSugar beet</td>\n",
       "      <td>10144</td>\n",
       "      <td>Stock VariationStock Variation</td>\n",
       "      <td>1000 tonnes1000 tonnes</td>\n",
       "      <td>5462.0</td>\n",
       "      <td>94.0</td>\n",
       "      <td>-1970.0</td>\n",
       "      <td>-4312.0</td>\n",
       "    </tr>\n",
       "    <tr>\n",
       "      <th>-1200.0</th>\n",
       "      <th>Mozambique</th>\n",
       "      <td>144</td>\n",
       "      <td>2532</td>\n",
       "      <td>Cassava and products</td>\n",
       "      <td>5072</td>\n",
       "      <td>Stock Variation</td>\n",
       "      <td>1000 tonnes</td>\n",
       "      <td>0.0</td>\n",
       "      <td>0.0</td>\n",
       "      <td>915.0</td>\n",
       "      <td>-1445.0</td>\n",
       "    </tr>\n",
       "    <tr>\n",
       "      <th>-1159.0</th>\n",
       "      <th>Mozambique</th>\n",
       "      <td>144</td>\n",
       "      <td>2907</td>\n",
       "      <td>Starchy Roots</td>\n",
       "      <td>5072</td>\n",
       "      <td>Stock Variation</td>\n",
       "      <td>1000 tonnes</td>\n",
       "      <td>-219.0</td>\n",
       "      <td>-3.0</td>\n",
       "      <td>915.0</td>\n",
       "      <td>-1442.0</td>\n",
       "    </tr>\n",
       "    <tr>\n",
       "      <th>-865.0</th>\n",
       "      <th>United Republic of Tanzania</th>\n",
       "      <td>215</td>\n",
       "      <td>2913</td>\n",
       "      <td>Oilcrops</td>\n",
       "      <td>5072</td>\n",
       "      <td>Stock Variation</td>\n",
       "      <td>1000 tonnes</td>\n",
       "      <td>2308.0</td>\n",
       "      <td>2505.0</td>\n",
       "      <td>-195.0</td>\n",
       "      <td>-14.0</td>\n",
       "    </tr>\n",
       "    <tr>\n",
       "      <th>-860.0</th>\n",
       "      <th>United Republic of Tanzania</th>\n",
       "      <td>215</td>\n",
       "      <td>2556</td>\n",
       "      <td>Groundnuts (Shelled Eq)</td>\n",
       "      <td>5072</td>\n",
       "      <td>Stock Variation</td>\n",
       "      <td>1000 tonnes</td>\n",
       "      <td>480.0</td>\n",
       "      <td>572.0</td>\n",
       "      <td>-212.0</td>\n",
       "      <td>-61.0</td>\n",
       "    </tr>\n",
       "    <tr>\n",
       "      <th>...</th>\n",
       "      <th>...</th>\n",
       "      <td>...</td>\n",
       "      <td>...</td>\n",
       "      <td>...</td>\n",
       "      <td>...</td>\n",
       "      <td>...</td>\n",
       "      <td>...</td>\n",
       "      <td>...</td>\n",
       "      <td>...</td>\n",
       "      <td>...</td>\n",
       "      <td>...</td>\n",
       "    </tr>\n",
       "    <tr>\n",
       "      <th>96443.0</th>\n",
       "      <th>Egypt</th>\n",
       "      <td>59</td>\n",
       "      <td>2501</td>\n",
       "      <td>Population</td>\n",
       "      <td>511</td>\n",
       "      <td>Total Population - Both sexes</td>\n",
       "      <td>1000 persons</td>\n",
       "      <td>90425.0</td>\n",
       "      <td>92443.0</td>\n",
       "      <td>94447.0</td>\n",
       "      <td>98424.0</td>\n",
       "    </tr>\n",
       "    <tr>\n",
       "      <th>106400.0</th>\n",
       "      <th>Ethiopia</th>\n",
       "      <td>238</td>\n",
       "      <td>2501</td>\n",
       "      <td>Population</td>\n",
       "      <td>511</td>\n",
       "      <td>Total Population - Both sexes</td>\n",
       "      <td>1000 persons</td>\n",
       "      <td>98094.0</td>\n",
       "      <td>100835.0</td>\n",
       "      <td>103603.0</td>\n",
       "      <td>109224.0</td>\n",
       "    </tr>\n",
       "    <tr>\n",
       "      <th>112625.0</th>\n",
       "      <th>Nigeria</th>\n",
       "      <td>159</td>\n",
       "      <td>2907</td>\n",
       "      <td>Starchy Roots</td>\n",
       "      <td>5301</td>\n",
       "      <td>Domestic supply quantity</td>\n",
       "      <td>1000 tonnes</td>\n",
       "      <td>108756.0</td>\n",
       "      <td>110798.0</td>\n",
       "      <td>116483.0</td>\n",
       "      <td>117038.0</td>\n",
       "    </tr>\n",
       "    <tr>\n",
       "      <th>117702.0</th>\n",
       "      <th>Nigeria</th>\n",
       "      <td>159</td>\n",
       "      <td>2907</td>\n",
       "      <td>Starchy Roots</td>\n",
       "      <td>5511</td>\n",
       "      <td>Production</td>\n",
       "      <td>1000 tonnes</td>\n",
       "      <td>109593.0</td>\n",
       "      <td>111663.0</td>\n",
       "      <td>119330.0</td>\n",
       "      <td>118172.0</td>\n",
       "    </tr>\n",
       "    <tr>\n",
       "      <th>190873.0</th>\n",
       "      <th>Nigeria</th>\n",
       "      <td>159</td>\n",
       "      <td>2501</td>\n",
       "      <td>Population</td>\n",
       "      <td>511</td>\n",
       "      <td>Total Population - Both sexes</td>\n",
       "      <td>1000 persons</td>\n",
       "      <td>176405.0</td>\n",
       "      <td>181137.0</td>\n",
       "      <td>185960.0</td>\n",
       "      <td>195875.0</td>\n",
       "    </tr>\n",
       "  </tbody>\n",
       "</table>\n",
       "<p>14773 rows × 10 columns</p>\n",
       "</div>"
      ],
      "text/plain": [
       "                                       Area Code  Item Code  \\\n",
       "Y2017     Area                                                \n",
       "-1582.0   Egypt                              118       5445   \n",
       "-1200.0   Mozambique                         144       2532   \n",
       "-1159.0   Mozambique                         144       2907   \n",
       "-865.0    United Republic of Tanzania        215       2913   \n",
       "-860.0    United Republic of Tanzania        215       2556   \n",
       "...                                          ...        ...   \n",
       " 96443.0  Egypt                               59       2501   \n",
       " 106400.0 Ethiopia                           238       2501   \n",
       " 112625.0 Nigeria                            159       2907   \n",
       " 117702.0 Nigeria                            159       2907   \n",
       " 190873.0 Nigeria                            159       2501   \n",
       "\n",
       "                                                          Item  Element Code  \\\n",
       "Y2017     Area                                                                 \n",
       "-1582.0   Egypt                          Sugar CropsSugar beet         10144   \n",
       "-1200.0   Mozambique                      Cassava and products          5072   \n",
       "-1159.0   Mozambique                             Starchy Roots          5072   \n",
       "-865.0    United Republic of Tanzania                 Oilcrops          5072   \n",
       "-860.0    United Republic of Tanzania  Groundnuts (Shelled Eq)          5072   \n",
       "...                                                        ...           ...   \n",
       " 96443.0  Egypt                                     Population           511   \n",
       " 106400.0 Ethiopia                                  Population           511   \n",
       " 112625.0 Nigeria                                Starchy Roots          5301   \n",
       " 117702.0 Nigeria                                Starchy Roots          5511   \n",
       " 190873.0 Nigeria                                   Population           511   \n",
       "\n",
       "                                                              Element  \\\n",
       "Y2017     Area                                                          \n",
       "-1582.0   Egypt                        Stock VariationStock Variation   \n",
       "-1200.0   Mozambique                                  Stock Variation   \n",
       "-1159.0   Mozambique                                  Stock Variation   \n",
       "-865.0    United Republic of Tanzania                 Stock Variation   \n",
       "-860.0    United Republic of Tanzania                 Stock Variation   \n",
       "...                                                               ...   \n",
       " 96443.0  Egypt                         Total Population - Both sexes   \n",
       " 106400.0 Ethiopia                      Total Population - Both sexes   \n",
       " 112625.0 Nigeria                            Domestic supply quantity   \n",
       " 117702.0 Nigeria                                          Production   \n",
       " 190873.0 Nigeria                       Total Population - Both sexes   \n",
       "\n",
       "                                                         Unit     Y2014  \\\n",
       "Y2017     Area                                                            \n",
       "-1582.0   Egypt                        1000 tonnes1000 tonnes    5462.0   \n",
       "-1200.0   Mozambique                              1000 tonnes       0.0   \n",
       "-1159.0   Mozambique                              1000 tonnes    -219.0   \n",
       "-865.0    United Republic of Tanzania             1000 tonnes    2308.0   \n",
       "-860.0    United Republic of Tanzania             1000 tonnes     480.0   \n",
       "...                                                       ...       ...   \n",
       " 96443.0  Egypt                                  1000 persons   90425.0   \n",
       " 106400.0 Ethiopia                               1000 persons   98094.0   \n",
       " 112625.0 Nigeria                                 1000 tonnes  108756.0   \n",
       " 117702.0 Nigeria                                 1000 tonnes  109593.0   \n",
       " 190873.0 Nigeria                                1000 persons  176405.0   \n",
       "\n",
       "                                          Y2015     Y2016     Y2018  \n",
       "Y2017     Area                                                       \n",
       "-1582.0   Egypt                            94.0   -1970.0   -4312.0  \n",
       "-1200.0   Mozambique                        0.0     915.0   -1445.0  \n",
       "-1159.0   Mozambique                       -3.0     915.0   -1442.0  \n",
       "-865.0    United Republic of Tanzania    2505.0    -195.0     -14.0  \n",
       "-860.0    United Republic of Tanzania     572.0    -212.0     -61.0  \n",
       "...                                         ...       ...       ...  \n",
       " 96443.0  Egypt                         92443.0   94447.0   98424.0  \n",
       " 106400.0 Ethiopia                     100835.0  103603.0  109224.0  \n",
       " 112625.0 Nigeria                      110798.0  116483.0  117038.0  \n",
       " 117702.0 Nigeria                      111663.0  119330.0  118172.0  \n",
       " 190873.0 Nigeria                      181137.0  185960.0  195875.0  \n",
       "\n",
       "[14773 rows x 10 columns]"
      ]
     },
     "execution_count": 11,
     "metadata": {},
     "output_type": "execute_result"
    }
   ],
   "source": [
    "#Select columns ‘Y2017’ and ‘Area’, Perform a groupby operation on ‘Area’.  Which of these Areas had the highest sum in 2017?\n",
    "m = df.groupby(['Y2017', 'Area']).sum()\n",
    "m"
   ]
  },
  {
   "cell_type": "code",
   "execution_count": 12,
   "metadata": {},
   "outputs": [
    {
     "data": {
      "text/plain": [
       "'e'"
      ]
     },
     "execution_count": 12,
     "metadata": {},
     "output_type": "execute_result"
    }
   ],
   "source": [
    "#What would be the output for?\n",
    "\n",
    "S = [['him', 'sell'], [90, 28, 43]]\n",
    "\n",
    "S[0][1][1]"
   ]
  },
  {
   "cell_type": "code",
   "execution_count": 2,
   "metadata": {},
   "outputs": [
    {
     "name": "stdout",
     "output_type": "stream",
     "text": [
      "20000000\n"
     ]
    }
   ],
   "source": [
    "nums = [2000,10000,500000,1000000,20000000]\n",
    "\n",
    "def max_nums(max_):    \n",
    "    max_ = max(max_)   \n",
    "    return max_ \n",
    "\n",
    "print(max_nums(nums))"
   ]
  },
  {
   "cell_type": "code",
   "execution_count": 3,
   "metadata": {},
   "outputs": [
    {
     "ename": "NameError",
     "evalue": "name 'num' is not defined",
     "output_type": "error",
     "traceback": [
      "\u001b[1;31m---------------------------------------------------------------------------\u001b[0m",
      "\u001b[1;31mNameError\u001b[0m                                 Traceback (most recent call last)",
      "Cell \u001b[1;32mIn[3], line 5\u001b[0m\n\u001b[0;32m      2\u001b[0m     \u001b[38;5;28;01mreturn\u001b[39;00m num \u001b[38;5;241m+\u001b[39m \u001b[38;5;241m25\u001b[39m\n\u001b[0;32m      4\u001b[0m fun1(\u001b[38;5;241m5\u001b[39m)\n\u001b[1;32m----> 5\u001b[0m \u001b[38;5;28mprint\u001b[39m(\u001b[43mnum\u001b[49m)\n",
      "\u001b[1;31mNameError\u001b[0m: name 'num' is not defined"
     ]
    }
   ],
   "source": [
    "def fun1(num):\n",
    "    return num + 25\n",
    "\n",
    "fun1(5)\n",
    "print(num)"
   ]
  },
  {
   "cell_type": "code",
   "execution_count": 4,
   "metadata": {},
   "outputs": [
    {
     "name": "stdout",
     "output_type": "stream",
     "text": [
      "(8, 7)\n"
     ]
    }
   ],
   "source": [
    "def add(a, b):\n",
    "    return a+5, b+5\n",
    "\n",
    "result = add(3, 2)\n",
    "print(result)"
   ]
  },
  {
   "cell_type": "code",
   "execution_count": 5,
   "metadata": {},
   "outputs": [
    {
     "name": "stdout",
     "output_type": "stream",
     "text": [
      "15\n"
     ]
    }
   ],
   "source": [
    "def outer_fun(a, b):\n",
    "    def inner_fun(c, d):\n",
    "        return c + d\n",
    "\n",
    "    return inner_fun(a, b)\n",
    "    return a\n",
    "\n",
    "result = outer_fun(5, 10)\n",
    "print(result)"
   ]
  },
  {
   "cell_type": "code",
   "execution_count": null,
   "metadata": {},
   "outputs": [],
   "source": [
    "class BaseClass:\n",
    "  Body of base class\n",
    "class DerivedClass(BaseClass):\n",
    "  Body of derived class"
   ]
  },
  {
   "cell_type": "code",
   "execution_count": null,
   "metadata": {},
   "outputs": [],
   "source": [
    "F = input(9/5 * C * + 32)"
   ]
  },
  {
   "cell_type": "code",
   "execution_count": 8,
   "metadata": {},
   "outputs": [
    {
     "ename": "TypeError",
     "evalue": "unsupported operand type(s) for %: 'list' and 'int'",
     "output_type": "error",
     "traceback": [
      "\u001b[1;31m---------------------------------------------------------------------------\u001b[0m",
      "\u001b[1;31mTypeError\u001b[0m                                 Traceback (most recent call last)",
      "Cell \u001b[1;32mIn[8], line 5\u001b[0m\n\u001b[0;32m      3\u001b[0m lists\u001b[38;5;241m.\u001b[39mappend([\u001b[38;5;241m3\u001b[39m,\u001b[38;5;241m7\u001b[39m,\u001b[38;5;241m9\u001b[39m])\n\u001b[0;32m      4\u001b[0m \u001b[38;5;28;01mfor\u001b[39;00m x \u001b[38;5;129;01min\u001b[39;00m lists:\n\u001b[1;32m----> 5\u001b[0m     \u001b[38;5;28;01mif\u001b[39;00m \u001b[43mx\u001b[49m\u001b[38;5;241;43m%\u001b[39;49m\u001b[38;5;241;43m2\u001b[39;49m \u001b[38;5;241m==\u001b[39m \u001b[38;5;241m0\u001b[39m:\n\u001b[0;32m      6\u001b[0m         y\u001b[38;5;241m.\u001b[39mappend(x)\n\u001b[0;32m      7\u001b[0m \u001b[38;5;28mprint\u001b[39m(y)\n",
      "\u001b[1;31mTypeError\u001b[0m: unsupported operand type(s) for %: 'list' and 'int'"
     ]
    }
   ],
   "source": [
    "y =[]\n",
    "lists = [2,3,4,5,6,7,7]\n",
    "lists.append([3,7,9])\n",
    "for x in lists:\n",
    "    if x%2 == 0:\n",
    "        y.append(x)\n",
    "print(y)\n",
    "    \n",
    "\n",
    "\n"
   ]
  }
 ],
 "metadata": {
  "kernelspec": {
   "display_name": "Python 3 (ipykernel)",
   "language": "python",
   "name": "python3"
  },
  "language_info": {
   "codemirror_mode": {
    "name": "ipython",
    "version": 3
   },
   "file_extension": ".py",
   "mimetype": "text/x-python",
   "name": "python",
   "nbconvert_exporter": "python",
   "pygments_lexer": "ipython3",
   "version": "3.11.4"
  }
 },
 "nbformat": 4,
 "nbformat_minor": 4
}
