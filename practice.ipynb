{
 "cells": [
  {
   "cell_type": "code",
   "execution_count": 1,
   "id": "5329344b-52f1-4867-b6d4-b3f069de7f81",
   "metadata": {},
   "outputs": [
    {
     "name": "stdout",
     "output_type": "stream",
     "text": [
      "{1, 2, 3, 5, 7}\n"
     ]
    }
   ],
   "source": [
    "a= {1,2,3}\n",
    "b = {1,3,4,5}\n",
    "c= {1,2,5,7}\n",
    "print(a&b|c)"
   ]
  },
  {
   "cell_type": "code",
   "execution_count": 2,
   "id": "7921b86f-a0e7-46f6-95ed-efb760fb4699",
   "metadata": {},
   "outputs": [
    {
     "data": {
      "text/plain": [
       "False"
      ]
     },
     "execution_count": 2,
     "metadata": {},
     "output_type": "execute_result"
    }
   ],
   "source": [
    "d = {'a':1, 'b': 2}\n",
    "'a' in d\n",
    "'1' in d"
   ]
  },
  {
   "cell_type": "code",
   "execution_count": 3,
   "id": "640bbfce-5409-4947-986c-544955ae1473",
   "metadata": {},
   "outputs": [
    {
     "name": "stdout",
     "output_type": "stream",
     "text": [
      "hello worl\n"
     ]
    }
   ],
   "source": [
    "print(\"hello world\"[:-1])"
   ]
  },
  {
   "cell_type": "code",
   "execution_count": 4,
   "id": "b379cf88-f579-4f67-9954-2ed27e6cf5e8",
   "metadata": {},
   "outputs": [
    {
     "ename": "SyntaxError",
     "evalue": "invalid syntax (2903256614.py, line 1)",
     "output_type": "error",
     "traceback": [
      "\u001b[1;36m  Cell \u001b[1;32mIn[4], line 1\u001b[1;36m\u001b[0m\n\u001b[1;33m    print(\"hello world\"[:::-1])\u001b[0m\n\u001b[1;37m                          ^\u001b[0m\n\u001b[1;31mSyntaxError\u001b[0m\u001b[1;31m:\u001b[0m invalid syntax\n"
     ]
    }
   ],
   "source": [
    "print(\"hello world\"[:::-1])"
   ]
  },
  {
   "cell_type": "code",
   "execution_count": 5,
   "id": "0e032822-053a-4ac7-8c13-13166ea9f1ba",
   "metadata": {},
   "outputs": [
    {
     "data": {
      "text/plain": [
       "2.718281828459045"
      ]
     },
     "execution_count": 5,
     "metadata": {},
     "output_type": "execute_result"
    }
   ],
   "source": [
    "import math as mt\n",
    "y = mt.exp(1)\n",
    "y"
   ]
  },
  {
   "cell_type": "code",
   "execution_count": 6,
   "id": "08b9cb7a-9873-4454-9daf-893c46b73357",
   "metadata": {},
   "outputs": [
    {
     "name": "stdout",
     "output_type": "stream",
     "text": [
      "90\n",
      "99\n",
      "110\n"
     ]
    }
   ],
   "source": [
    "for n in range(10,12):\n",
    "    for j in range(9,n):\n",
    "        print(n * j)"
   ]
  },
  {
   "cell_type": "code",
   "execution_count": 7,
   "id": "26a20ef3-6cf4-4a0c-966e-9f912fa90fc2",
   "metadata": {},
   "outputs": [
    {
     "ename": "SyntaxError",
     "evalue": "cannot assign to literal here. Maybe you meant '==' instead of '='? (23247716.py, line 2)",
     "output_type": "error",
     "traceback": [
      "\u001b[1;36m  Cell \u001b[1;32mIn[7], line 2\u001b[1;36m\u001b[0m\n\u001b[1;33m    df = pf.DataFrame(d =['a'=[10,100], 'z' =[20,400]])\u001b[0m\n\u001b[1;37m                          ^\u001b[0m\n\u001b[1;31mSyntaxError\u001b[0m\u001b[1;31m:\u001b[0m cannot assign to literal here. Maybe you meant '==' instead of '='?\n"
     ]
    }
   ],
   "source": [
    "import pandas as pf\n",
    "df = pf.DataFrame(d =['a'=[10,100], 'z' =[20,400]])\n",
    "df"
   ]
  },
  {
   "cell_type": "code",
   "execution_count": 8,
   "id": "7ea3332e-47ee-413c-acca-78ea193d37d2",
   "metadata": {},
   "outputs": [
    {
     "name": "stdout",
     "output_type": "stream",
     "text": [
      "6\n",
      "7\n",
      "14\n"
     ]
    }
   ],
   "source": [
    "x = 3\n",
    "while x< 11:\n",
    "    if x%2 ==0:\n",
    "        x = x+1\n",
    "    else:\n",
    "        x = x*2\n",
    "    print(x)"
   ]
  },
  {
   "cell_type": "code",
   "execution_count": 9,
   "id": "40e475fb-47b4-4d12-b593-fa673e85f678",
   "metadata": {},
   "outputs": [
    {
     "data": {
      "text/plain": [
       "[[3, 4, 5], [6, 7, 19], [8, 15, 17]]"
      ]
     },
     "execution_count": 9,
     "metadata": {},
     "output_type": "execute_result"
    }
   ],
   "source": [
    "a =[[3,4,5],[6,7,19],[8,15,17]]\n",
    "b =list(a)\n",
    "b"
   ]
  },
  {
   "cell_type": "code",
   "execution_count": 11,
   "id": "2093239e-7264-4afc-b0eb-4b860c83a31e",
   "metadata": {},
   "outputs": [
    {
     "data": {
      "text/plain": [
       "[6, 8, 10, 12, 14]"
      ]
     },
     "execution_count": 11,
     "metadata": {},
     "output_type": "execute_result"
    }
   ],
   "source": [
    "n = [1,2,3,4,5,6,7,8,9]\n",
    "x = [i+5 for i in n if i%2]\n",
    "x"
   ]
  },
  {
   "cell_type": "code",
   "execution_count": 12,
   "id": "d3dcd290-004a-4010-9d0b-f55e503fbfdc",
   "metadata": {},
   "outputs": [
    {
     "data": {
      "text/plain": [
       "{'a': 2}"
      ]
     },
     "execution_count": 12,
     "metadata": {},
     "output_type": "execute_result"
    }
   ],
   "source": [
    "d = {\"a\":1}\n",
    "d[\"a\"]= 2\n",
    "d"
   ]
  }
 ],
 "metadata": {
  "kernelspec": {
   "display_name": "Python 3 (ipykernel)",
   "language": "python",
   "name": "python3"
  },
  "language_info": {
   "codemirror_mode": {
    "name": "ipython",
    "version": 3
   },
   "file_extension": ".py",
   "mimetype": "text/x-python",
   "name": "python",
   "nbconvert_exporter": "python",
   "pygments_lexer": "ipython3",
   "version": "3.11.4"
  }
 },
 "nbformat": 4,
 "nbformat_minor": 5
}
